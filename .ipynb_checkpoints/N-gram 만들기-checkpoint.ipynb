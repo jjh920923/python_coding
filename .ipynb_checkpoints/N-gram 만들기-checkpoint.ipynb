{
 "cells": [
  {
   "cell_type": "code",
   "execution_count": 1,
   "metadata": {
    "scrolled": true
   },
   "outputs": [
    {
     "name": "stdout",
     "output_type": "stream",
     "text": [
      "He\n",
      "el\n",
      "ll\n",
      "lo\n"
     ]
    }
   ],
   "source": [
    "text = 'Hello'\n",
    "\n",
    "for i in range(len(text)-1):\n",
    "    print(text[i:i+2])"
   ]
  },
  {
   "cell_type": "code",
   "execution_count": 2,
   "metadata": {},
   "outputs": [
    {
     "name": "stdout",
     "output_type": "stream",
     "text": [
      "He\n",
      "el\n",
      "ll\n",
      "lo\n"
     ]
    }
   ],
   "source": [
    "two_gram = zip(text, text[1:])\n",
    "for i in two_gram:\n",
    "    print(i[0], i[1], sep='')"
   ]
  },
  {
   "cell_type": "code",
   "execution_count": 3,
   "metadata": {},
   "outputs": [
    {
     "name": "stdout",
     "output_type": "stream",
     "text": [
      "this is\n",
      "is python\n",
      "python script\n"
     ]
    }
   ],
   "source": [
    "text = 'this is python script'\n",
    "words = text.split(' ')\n",
    "\n",
    "for i in range(len(words)-1):\n",
    "    print(words[i], words[i+1])"
   ]
  }
 ],
 "metadata": {
  "kernelspec": {
   "display_name": "Python 3",
   "language": "python",
   "name": "python3"
  },
  "language_info": {
   "codemirror_mode": {
    "name": "ipython",
    "version": 3
   },
   "file_extension": ".py",
   "mimetype": "text/x-python",
   "name": "python",
   "nbconvert_exporter": "python",
   "pygments_lexer": "ipython3",
   "version": "3.7.6"
  }
 },
 "nbformat": 4,
 "nbformat_minor": 4
}
