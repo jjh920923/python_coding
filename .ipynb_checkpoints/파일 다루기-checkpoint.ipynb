{
 "cells": [
  {
   "cell_type": "code",
   "execution_count": 1,
   "metadata": {},
   "outputs": [],
   "source": [
    "# 파일 쓰기\n",
    "file = open('hello.txt', 'w')\n",
    "file.write('Hello, world!')\n",
    "file.close()"
   ]
  },
  {
   "cell_type": "code",
   "execution_count": 2,
   "metadata": {},
   "outputs": [
    {
     "name": "stdout",
     "output_type": "stream",
     "text": [
      "Hello, world!\n"
     ]
    }
   ],
   "source": [
    "# 파일 읽기\n",
    "file = open('hello.txt', 'r')\n",
    "s = file.read()\n",
    "print(s)\n",
    "file.close()"
   ]
  },
  {
   "cell_type": "code",
   "execution_count": 3,
   "metadata": {},
   "outputs": [
    {
     "name": "stdout",
     "output_type": "stream",
     "text": [
      "Hello, world!\n"
     ]
    }
   ],
   "source": [
    "# 파일 객체를 자동으로 닫아주기 때문에 close를 사용하지 않는다.\n",
    "with open('hello.txt', 'r') as file:\n",
    "    s = file.read()\n",
    "    print(s)"
   ]
  },
  {
   "cell_type": "code",
   "execution_count": 4,
   "metadata": {},
   "outputs": [],
   "source": [
    "# 여러 줄을 파일에 쓰기\n",
    "with open('hello.txt', 'w') as file:\n",
    "    for i in range(3):\n",
    "        file.write('Hello, word! {0}\\n'.format(i))"
   ]
  },
  {
   "cell_type": "code",
   "execution_count": 5,
   "metadata": {},
   "outputs": [
    {
     "name": "stdout",
     "output_type": "stream",
     "text": [
      "Hello, word! 0\n",
      "Hello, word! 1\n",
      "Hello, word! 2\n",
      "\n"
     ]
    }
   ],
   "source": [
    "with open('hello.txt', 'r') as file:\n",
    "    s = file.read()\n",
    "    print(s)"
   ]
  },
  {
   "cell_type": "code",
   "execution_count": 9,
   "metadata": {},
   "outputs": [],
   "source": [
    "# 리스트에 들어있는 문자열을 파일에 쓰기\n",
    "lines = ['안녕하세요.', '파이썬\\n', '정재환입니다.\\n']\n",
    "with open('hello.txt', 'w') as file:\n",
    "    file.writelines(lines)"
   ]
  },
  {
   "cell_type": "code",
   "execution_count": 10,
   "metadata": {},
   "outputs": [
    {
     "name": "stdout",
     "output_type": "stream",
     "text": [
      "안녕하세요.파이썬\n",
      "정재환입니다.\n",
      "\n"
     ]
    }
   ],
   "source": [
    "with open('hello.txt', 'r') as file:\n",
    "    s = file.read()\n",
    "    print(s)"
   ]
  },
  {
   "cell_type": "code",
   "execution_count": 11,
   "metadata": {},
   "outputs": [
    {
     "name": "stdout",
     "output_type": "stream",
     "text": [
      "['안녕하세요.파이썬\\n', '정재환입니다.\\n']\n"
     ]
    }
   ],
   "source": [
    "with open('hello.txt', 'r') as file:\n",
    "    s = file.readlines()\n",
    "    print(s)"
   ]
  },
  {
   "cell_type": "code",
   "execution_count": 12,
   "metadata": {},
   "outputs": [
    {
     "name": "stdout",
     "output_type": "stream",
     "text": [
      "안녕하세요.파이썬\n",
      "정재환입니다.\n",
      "\n"
     ]
    }
   ],
   "source": [
    "# 파일에 문자열이 몇 줄이나 있는지 모르기 때문에 readline으로 파일을 읽을 때는 while 반복문을 활용해야 함\n",
    "# while은 특정 조건이 만족할 때 계속 반복하므로 파일의 크기에 상관없이 문자열을 읽어올 수 있음\n",
    "# readline은 더 이상 읽을 줄이 없을 때는 빈 문자열을 반환하는데, while에는 이런 특성을 이용하여 조건식을 만들어줌\n",
    "# 즉, line != ''와 같이 빈 문자열이 아닐 때 계속 반복하도록 만듬\n",
    "# 반복문 안에서는 line = file.readline()과 같이 문자열 한 줄을 읽어서 변수 line에 저장해주면 됨\n",
    "\n",
    "with open('hello.txt', 'r') as file:\n",
    "    line = None\n",
    "    while line != '':\n",
    "        line = file.readline()\n",
    "        print(line.strip('\\n'))"
   ]
  },
  {
   "cell_type": "code",
   "execution_count": 13,
   "metadata": {},
   "outputs": [],
   "source": [
    "# 파이썬 객체를 파일에 저장하기, 가져오기\n",
    "# 파이썬은 객체를 파일에 저장하는 pickle 모듈을 제공함\n",
    "# 파이썬 객체를 파일에 저장하는 과정을 피클링이라고 하고, \n",
    "# 파일에서 객체를 읽어오는 과정을 언피클링이라고 함\n",
    "\n",
    "# p 말고 다른 확장자를 사용해도 상관없다.\n",
    "# 객체 값을 저장할 때는 'wb'로 지정해야한다.(write binary)\n",
    "\n",
    "import pickle\n",
    "\n",
    "name = 'james'\n",
    "age = 17\n",
    "address = '서울시 서초구 반포동'\n",
    "scores = {'korean': 90, 'english': 95, 'mathematics': 85, 'science': 82}\n",
    "\n",
    "with open('james.p', 'wb') as file:\n",
    "    pickle.dump(name, file)\n",
    "    pickle.dump(age, file)\n",
    "    pickle.dump(address, file)\n",
    "    pickle.dump(scores, file)"
   ]
  },
  {
   "cell_type": "code",
   "execution_count": 14,
   "metadata": {},
   "outputs": [
    {
     "name": "stdout",
     "output_type": "stream",
     "text": [
      "james\n",
      "17\n",
      "서울시 서초구 반포동\n",
      "{'korean': 90, 'english': 95, 'mathematics': 85, 'science': 82}\n"
     ]
    }
   ],
   "source": [
    "with open('james.p', 'rb') as file:\n",
    "    name = pickle.load(file)\n",
    "    age = pickle.load(file)\n",
    "    address = pickle.load(file)\n",
    "    scores = pickle.load(file)\n",
    "    print(name)\n",
    "    print(age)\n",
    "    print(address)\n",
    "    print(scores)"
   ]
  }
 ],
 "metadata": {
  "kernelspec": {
   "display_name": "Python 3",
   "language": "python",
   "name": "python3"
  },
  "language_info": {
   "codemirror_mode": {
    "name": "ipython",
    "version": 3
   },
   "file_extension": ".py",
   "mimetype": "text/x-python",
   "name": "python",
   "nbconvert_exporter": "python",
   "pygments_lexer": "ipython3",
   "version": "3.7.6"
  }
 },
 "nbformat": 4,
 "nbformat_minor": 4
}
