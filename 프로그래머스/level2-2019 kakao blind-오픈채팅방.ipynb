{
 "cells": [
  {
   "cell_type": "code",
   "execution_count": 1,
   "metadata": {},
   "outputs": [],
   "source": [
    "# 나의 풀이\n",
    "# 먼저 아이디를 변경했거나 나갔다 들어온 유저들의 아이디 갱신부터 해준다.\n",
    "# 갱신한 아이디를 dict에 저장한다.\n",
    "# 최신화된 아이디를 가지고 채팅방 입장퇴장 내역을 리스트로 작성한다.\n",
    "def solution(record):\n",
    "    id_name = {}\n",
    "\n",
    "    for i in record:\n",
    "        word = i.split(' ')\n",
    "        if word[0] == 'Enter' or word[0] == 'Change':\n",
    "            id_name[word[1]] = word[2]\n",
    "\n",
    "    result = []\n",
    "    s_enter = '님이 들어왔습니다.'\n",
    "    s_leave = '님이 나갔습니다.'\n",
    "\n",
    "    for i in record:\n",
    "        word = i.split(' ')\n",
    "        if word[0] == 'Enter':\n",
    "            result.append(id_name.get(word[1]) + s_enter)\n",
    "        elif word[0] == 'Leave':\n",
    "            result.append(id_name.get(word[1]) + s_leave)\n",
    "    \n",
    "    return result"
   ]
  },
  {
   "cell_type": "code",
   "execution_count": 2,
   "metadata": {},
   "outputs": [
    {
     "data": {
      "text/plain": [
       "['Prodo님이 들어왔습니다.', 'Ryan님이 들어왔습니다.', 'Prodo님이 나갔습니다.', 'Prodo님이 들어왔습니다.']"
      ]
     },
     "execution_count": 2,
     "metadata": {},
     "output_type": "execute_result"
    }
   ],
   "source": [
    "record = [\"Enter uid1234 Muzi\", \"Enter uid4567 Prodo\",\"Leave uid1234\",\"Enter uid1234 Prodo\",\"Change uid4567 Ryan\"]\n",
    "\n",
    "solution(record)"
   ]
  }
 ],
 "metadata": {
  "kernelspec": {
   "display_name": "Python 3",
   "language": "python",
   "name": "python3"
  },
  "language_info": {
   "codemirror_mode": {
    "name": "ipython",
    "version": 3
   },
   "file_extension": ".py",
   "mimetype": "text/x-python",
   "name": "python",
   "nbconvert_exporter": "python",
   "pygments_lexer": "ipython3",
   "version": "3.7.6"
  }
 },
 "nbformat": 4,
 "nbformat_minor": 4
}
