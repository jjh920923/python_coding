{
 "cells": [
  {
   "cell_type": "code",
   "execution_count": 1,
   "metadata": {},
   "outputs": [
    {
     "name": "stdout",
     "output_type": "stream",
     "text": [
      "TrY HeLlO WoRlD\n"
     ]
    }
   ],
   "source": [
    "# 나의 풀이\n",
    "s = 'try hello world'\n",
    "\n",
    "result = []\n",
    "for i in s.split(' '):\n",
    "    result.append(''.join(map(lambda x: x[1].upper() if x[0] % 2 == 0 else x[1].lower(), enumerate(i))))\n",
    "\n",
    "answer = ' '.join(result)\n",
    "print(answer)"
   ]
  }
 ],
 "metadata": {
  "kernelspec": {
   "display_name": "Python 3",
   "language": "python",
   "name": "python3"
  },
  "language_info": {
   "codemirror_mode": {
    "name": "ipython",
    "version": 3
   },
   "file_extension": ".py",
   "mimetype": "text/x-python",
   "name": "python",
   "nbconvert_exporter": "python",
   "pygments_lexer": "ipython3",
   "version": "3.7.6"
  }
 },
 "nbformat": 4,
 "nbformat_minor": 4
}
