{
 "cells": [
  {
   "cell_type": "code",
   "execution_count": 1,
   "metadata": {},
   "outputs": [],
   "source": [
    "# 나의 풀이\n",
    "# 직관적으로는 보기 쉬운 코드이다. \n",
    "# 시간 초과도 뜨지 않아 시간 복잡도도 낮다.\n",
    "# 정규식으로 풀고 싶었지만 아직 공부가 덜 되어 빨리 공부를 해야겠다.\n",
    "def solution(dartResult):\n",
    "    score = []\n",
    "\n",
    "    for i in range(len(dartResult)):\n",
    "        if dartResult[i] == '1' and dartResult[i+1] == '0':\n",
    "            answer = 10\n",
    "        elif dartResult[i] == '0' and dartResult[i-1] == '1':\n",
    "            continue\n",
    "        elif dartResult[i] == 'S':\n",
    "            answer = answer**1\n",
    "            score.append(answer)\n",
    "        elif dartResult[i] == 'D':\n",
    "            answer = answer**2\n",
    "            score.append(answer)\n",
    "        elif dartResult[i] == 'T':\n",
    "            answer = answer**3\n",
    "            score.append(answer)\n",
    "        elif dartResult[i] == '*':\n",
    "            if len(score) == 1:\n",
    "                score[0] = score[0]*2\n",
    "            elif len(score) == 2:\n",
    "                score[0] = score[0]*2\n",
    "                score[1] = score[1]*2\n",
    "            else:\n",
    "                score[1] = score[1]*2\n",
    "                score[2] = score[2]*2\n",
    "        elif dartResult[i] == '#':\n",
    "            score[-1] = score[-1]*(-1)\n",
    "        else:\n",
    "            answer = int(dartResult[i])\n",
    "    return sum(score)"
   ]
  },
  {
   "cell_type": "code",
   "execution_count": 2,
   "metadata": {},
   "outputs": [
    {
     "data": {
      "text/plain": [
       "37"
      ]
     },
     "execution_count": 2,
     "metadata": {},
     "output_type": "execute_result"
    }
   ],
   "source": [
    "dartResult = '1S2D*3T'\n",
    "solution(dartResult)"
   ]
  },
  {
   "cell_type": "code",
   "execution_count": 3,
   "metadata": {},
   "outputs": [],
   "source": [
    "# 정규식을 사용한 표현이다.\n",
    "# 훨씬 깔끔하게 표현할 수 있다.\n",
    "import re\n",
    "\n",
    "def solution(dartResult):\n",
    "    bonus = {'S' : 1, 'D' : 2, 'T' : 3}\n",
    "    option = {'' : 1, '*' : 2, '#' : -1}\n",
    "    p = re.compile('(\\d+)([SDT])([*#]?)')\n",
    "    dart = p.findall(dartResult)\n",
    "    for i in range(len(dart)):\n",
    "        if dart[i][2] == '*' and i > 0:\n",
    "            dart[i-1] *= 2\n",
    "        dart[i] = int(dart[i][0]) ** bonus[dart[i][1]] * option[dart[i][2]]\n",
    "\n",
    "    answer = sum(dart)\n",
    "    return answer"
   ]
  },
  {
   "cell_type": "code",
   "execution_count": 4,
   "metadata": {},
   "outputs": [
    {
     "data": {
      "text/plain": [
       "37"
      ]
     },
     "execution_count": 4,
     "metadata": {},
     "output_type": "execute_result"
    }
   ],
   "source": [
    "dartResult = '1S2D*3T'\n",
    "solution(dartResult)"
   ]
  }
 ],
 "metadata": {
  "kernelspec": {
   "display_name": "Python 3",
   "language": "python",
   "name": "python3"
  },
  "language_info": {
   "codemirror_mode": {
    "name": "ipython",
    "version": 3
   },
   "file_extension": ".py",
   "mimetype": "text/x-python",
   "name": "python",
   "nbconvert_exporter": "python",
   "pygments_lexer": "ipython3",
   "version": "3.7.6"
  }
 },
 "nbformat": 4,
 "nbformat_minor": 4
}
