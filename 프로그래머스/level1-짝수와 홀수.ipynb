{
 "cells": [
  {
   "cell_type": "code",
   "execution_count": 1,
   "metadata": {},
   "outputs": [
    {
     "name": "stdout",
     "output_type": "stream",
     "text": [
      "Odd\n",
      "Even\n"
     ]
    }
   ],
   "source": [
    "# 나의 풀이\n",
    "def solution(num):\n",
    "    if num%2 == 0:\n",
    "        return 'Even'\n",
    "    return 'Odd'\n",
    "\n",
    "print(solution(5))\n",
    "print(solution(6))"
   ]
  },
  {
   "cell_type": "code",
   "execution_count": 2,
   "metadata": {},
   "outputs": [
    {
     "name": "stdout",
     "output_type": "stream",
     "text": [
      "Odd\n",
      "Even\n"
     ]
    }
   ],
   "source": [
    "# if문을 다음과 같이 한줄로 출력할 수도 있다.\n",
    "def solution(num):\n",
    "    return 'Even' if num%2 ==0 else 'Odd'\n",
    "\n",
    "print(solution(5))\n",
    "print(solution(6))"
   ]
  },
  {
   "cell_type": "code",
   "execution_count": 3,
   "metadata": {},
   "outputs": [
    {
     "name": "stdout",
     "output_type": "stream",
     "text": [
      "Odd\n",
      "Even\n"
     ]
    }
   ],
   "source": [
    "# 다른 사람의 풀이\n",
    "# 2진 비트가 1번째 비트자리에 의해 홀짝이 결정된다. 1110(2) = 14, 1111(2) = 15\n",
    "# 그렇기 때문에 num & 1로 짝수는 [0 & 1] = [0], [1 & 1] = [1]\n",
    "# even, odd를 리스트로 만든 뒤에 인덱싱으로 출력한다.\n",
    "def solution(num):\n",
    "    return ['Even', 'Odd'][num & 1]\n",
    "\n",
    "print(solution(5))\n",
    "print(solution(6))"
   ]
  }
 ],
 "metadata": {
  "kernelspec": {
   "display_name": "Python 3",
   "language": "python",
   "name": "python3"
  },
  "language_info": {
   "codemirror_mode": {
    "name": "ipython",
    "version": 3
   },
   "file_extension": ".py",
   "mimetype": "text/x-python",
   "name": "python",
   "nbconvert_exporter": "python",
   "pygments_lexer": "ipython3",
   "version": "3.7.6"
  }
 },
 "nbformat": 4,
 "nbformat_minor": 4
}
