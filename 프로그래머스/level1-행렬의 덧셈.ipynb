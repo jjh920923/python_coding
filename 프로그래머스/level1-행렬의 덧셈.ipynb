{
 "cells": [
  {
   "cell_type": "code",
   "execution_count": 1,
   "metadata": {},
   "outputs": [],
   "source": [
    "# 나의 풀이\n",
    "def sumMatrix(arr1, arr2):\n",
    "    answer = []\n",
    "    for i, j in zip(arr1, arr2):\n",
    "        answer.append(list(map(lambda x, y: x+y, i, j)))\n",
    "    return answer"
   ]
  },
  {
   "cell_type": "code",
   "execution_count": 2,
   "metadata": {},
   "outputs": [
    {
     "name": "stdout",
     "output_type": "stream",
     "text": [
      "[[4, 6], [7, 9]]\n",
      "[[4], [6]]\n"
     ]
    }
   ],
   "source": [
    "print(sumMatrix([[1,2],[2,3]], [[3,4],[5,6]]))\n",
    "print(sumMatrix([[1],[2]], [[3],[4]]))"
   ]
  },
  {
   "cell_type": "code",
   "execution_count": 3,
   "metadata": {},
   "outputs": [],
   "source": [
    "# 다른사람의 풀이\n",
    "# zip과 이중 for문을 사용하여 한줄로 간결하게 표현했다.\n",
    "def sumMatrix(A, B):\n",
    "    return [[c + d for c, d in zip(a, b)] for a, b in zip(A,B)]"
   ]
  }
 ],
 "metadata": {
  "kernelspec": {
   "display_name": "Python 3",
   "language": "python",
   "name": "python3"
  },
  "language_info": {
   "codemirror_mode": {
    "name": "ipython",
    "version": 3
   },
   "file_extension": ".py",
   "mimetype": "text/x-python",
   "name": "python",
   "nbconvert_exporter": "python",
   "pygments_lexer": "ipython3",
   "version": "3.7.6"
  }
 },
 "nbformat": 4,
 "nbformat_minor": 4
}
