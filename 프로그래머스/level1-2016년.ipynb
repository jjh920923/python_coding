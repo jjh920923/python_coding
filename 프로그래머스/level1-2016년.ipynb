{
 "cells": [
  {
   "cell_type": "code",
   "execution_count": 1,
   "metadata": {},
   "outputs": [],
   "source": [
    "# 나의 풀이 1\n",
    "def solution(a, b):\n",
    "    day = [0, 31, 29, 31, 30, 31, 30, 31, 31, 30, 31, 30]\n",
    "    week = ['THU','FRI','SAT','SUN','MON','TUE','WED']\n",
    "\n",
    "    return week[(sum(day[:a])+b)%7]"
   ]
  },
  {
   "cell_type": "code",
   "execution_count": 2,
   "metadata": {},
   "outputs": [
    {
     "name": "stdout",
     "output_type": "stream",
     "text": [
      "TUE\n",
      "FRI\n"
     ]
    }
   ],
   "source": [
    "print(solution(5, 24))\n",
    "print(solution(1, 1))"
   ]
  },
  {
   "cell_type": "code",
   "execution_count": 3,
   "metadata": {},
   "outputs": [],
   "source": [
    "# 나의 풀이 2\n",
    "# 알고리즘 문제이기 때문에 패키지를 사용하는 것이 올바르지 않지만\n",
    "# 데이터 분석에 필요할 경우 패키지를 사용하는 것이 효율적이다.\n",
    "from datetime import date\n",
    "def solution(a, b):\n",
    "    day = ['MON','TUE','WED','THU','FRI','SAT','SUN']\n",
    "    return day[date(2016, a, b).weekday()]"
   ]
  },
  {
   "cell_type": "code",
   "execution_count": 4,
   "metadata": {},
   "outputs": [
    {
     "name": "stdout",
     "output_type": "stream",
     "text": [
      "TUE\n",
      "FRI\n"
     ]
    }
   ],
   "source": [
    "print(solution(5, 24))\n",
    "print(solution(1, 1))"
   ]
  }
 ],
 "metadata": {
  "kernelspec": {
   "display_name": "Python 3",
   "language": "python",
   "name": "python3"
  },
  "language_info": {
   "codemirror_mode": {
    "name": "ipython",
    "version": 3
   },
   "file_extension": ".py",
   "mimetype": "text/x-python",
   "name": "python",
   "nbconvert_exporter": "python",
   "pygments_lexer": "ipython3",
   "version": "3.7.6"
  }
 },
 "nbformat": 4,
 "nbformat_minor": 4
}
