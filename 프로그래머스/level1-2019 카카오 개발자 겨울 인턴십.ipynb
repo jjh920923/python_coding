{
 "cells": [
  {
   "cell_type": "code",
   "execution_count": 1,
   "metadata": {},
   "outputs": [],
   "source": [
    "# 나의 풀이\n",
    "def solution(board, moves):\n",
    "    Queue = []\n",
    "    answer = 0\n",
    "    for i in moves:\n",
    "        for j in range(len(board)):\n",
    "            if board[j][i-1] != 0:\n",
    "                doll = board[j][i-1]\n",
    "                board[j][i-1] = 0\n",
    "                if len(Queue) == 0:\n",
    "                    Queue.append(doll)\n",
    "                elif len(Queue) > 0 and doll != Queue[-1]:\n",
    "                    Queue.append(doll)\n",
    "                else:\n",
    "                    answer = answer + 2\n",
    "                    del Queue[-1]\n",
    "                break\n",
    "    return answer"
   ]
  },
  {
   "cell_type": "code",
   "execution_count": 2,
   "metadata": {},
   "outputs": [
    {
     "data": {
      "text/plain": [
       "4"
      ]
     },
     "execution_count": 2,
     "metadata": {},
     "output_type": "execute_result"
    }
   ],
   "source": [
    "board = [[0,0,0,0,0],[0,0,1,0,3],[0,2,5,0,1],[4,2,4,4,2],[3,5,1,3,1]]\n",
    "moves = [1,5,3,5,1,2,1,4]\n",
    "solution(board, moves)"
   ]
  },
  {
   "cell_type": "code",
   "execution_count": 3,
   "metadata": {},
   "outputs": [],
   "source": [
    "# 다른 사람의 풀이\n",
    "# 내가 처음 생각했던 방법이었는데 왜 이렇게 하지 못했을까...\n",
    "# 항상 마무리 생각을 짓지 못하는것 같아 아쉽다...\n",
    "def solution(board, moves):\n",
    "    Queue = []\n",
    "    answer = 0\n",
    "    for i in moves:\n",
    "        for j in range(len(board)):\n",
    "            if board[j][i-1] != 0:\n",
    "                Queue.append(board[j][i-1])\n",
    "                board[j][i-1] = 0\n",
    "                if len(Queue) > 1:\n",
    "                    if Queue[-1] == Queue[-2]:\n",
    "                        Queue.pop(-1)\n",
    "                        Queue.pop(-1)\n",
    "                        answer = answer +2\n",
    "                break\n",
    "    return answer"
   ]
  },
  {
   "cell_type": "code",
   "execution_count": 4,
   "metadata": {},
   "outputs": [
    {
     "data": {
      "text/plain": [
       "4"
      ]
     },
     "execution_count": 4,
     "metadata": {},
     "output_type": "execute_result"
    }
   ],
   "source": [
    "board = [[0,0,0,0,0],[0,0,1,0,3],[0,2,5,0,1],[4,2,4,4,2],[3,5,1,3,1]]\n",
    "moves = [1,5,3,5,1,2,1,4]\n",
    "solution(board, moves)"
   ]
  }
 ],
 "metadata": {
  "kernelspec": {
   "display_name": "Python 3",
   "language": "python",
   "name": "python3"
  },
  "language_info": {
   "codemirror_mode": {
    "name": "ipython",
    "version": 3
   },
   "file_extension": ".py",
   "mimetype": "text/x-python",
   "name": "python",
   "nbconvert_exporter": "python",
   "pygments_lexer": "ipython3",
   "version": "3.7.6"
  }
 },
 "nbformat": 4,
 "nbformat_minor": 4
}
