{
 "cells": [
  {
   "cell_type": "code",
   "execution_count": 1,
   "metadata": {},
   "outputs": [],
   "source": [
    "# 나의 풀이\n",
    "def solution(answers):\n",
    "    a = [1, 2, 3, 4, 5]\n",
    "    b = [2, 1, 2, 3, 2, 4, 2, 5]\n",
    "    c = [3, 3, 1, 1, 2, 2, 4, 4, 5, 5]\n",
    "\n",
    "    result_a, result_b, result_c = 0, 0, 0\n",
    "\n",
    "    answer = []\n",
    "    for i in range(len(answers)):\n",
    "        if answers[i] == a[i%len(a)]:\n",
    "            result_a += 1\n",
    "        if answers[i] == b[i%len(b)]:\n",
    "            result_b += 1\n",
    "        if answers[i] == c[i%len(c)]:\n",
    "            result_c += 1\n",
    "\n",
    "    answer.append(result_a)\n",
    "    answer.append(result_b)\n",
    "    answer.append(result_c)\n",
    "\n",
    "    final = []\n",
    "    for i, score in enumerate(answer):\n",
    "        if score == max(answer):\n",
    "            final.append(i+1)\n",
    "            \n",
    "    return final"
   ]
  },
  {
   "cell_type": "code",
   "execution_count": 2,
   "metadata": {},
   "outputs": [],
   "source": [
    "# 다른 사람의 풀이\n",
    "# [0, 0, 0] 리스트를 만들어 값을 1씩 추가해주는 방법이다.\n",
    "# 이러한 방법은 왜 생각해보지 못했을까.. 반성한다.\n",
    "\n",
    "def solution(answers):\n",
    "    pattern1 = [1,2,3,4,5]\n",
    "    pattern2 = [2,1,2,3,2,4,2,5]\n",
    "    pattern3 = [3,3,1,1,2,2,4,4,5,5]\n",
    "    score = [0, 0, 0]\n",
    "    result = []\n",
    "\n",
    "    for idx, answer in enumerate(answers):\n",
    "        if answer == pattern1[idx%len(pattern1)]:\n",
    "            score[0] += 1\n",
    "        if answer == pattern2[idx%len(pattern2)]:\n",
    "            score[1] += 1\n",
    "        if answer == pattern3[idx%len(pattern3)]:\n",
    "            score[2] += 1\n",
    "\n",
    "    for idx, s in enumerate(score):\n",
    "        if s == max(score):\n",
    "            result.append(idx+1)\n",
    "\n",
    "    return result"
   ]
  }
 ],
 "metadata": {
  "kernelspec": {
   "display_name": "Python 3",
   "language": "python",
   "name": "python3"
  },
  "language_info": {
   "codemirror_mode": {
    "name": "ipython",
    "version": 3
   },
   "file_extension": ".py",
   "mimetype": "text/x-python",
   "name": "python",
   "nbconvert_exporter": "python",
   "pygments_lexer": "ipython3",
   "version": "3.7.6"
  }
 },
 "nbformat": 4,
 "nbformat_minor": 4
}
