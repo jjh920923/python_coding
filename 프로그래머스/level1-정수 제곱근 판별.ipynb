{
 "cells": [
  {
   "cell_type": "code",
   "execution_count": 1,
   "metadata": {},
   "outputs": [
    {
     "name": "stdout",
     "output_type": "stream",
     "text": [
      "25\n",
      "-1\n"
     ]
    }
   ],
   "source": [
    "# 나의 풀이\n",
    "def sqrt_check(n):\n",
    "    sqrt = n**(1/2)\n",
    "    if n % sqrt == 0:\n",
    "        answer = int((sqrt+1)**2)\n",
    "    else:\n",
    "        answer = -1\n",
    "    return answer\n",
    "\n",
    "print(sqrt_check(16))\n",
    "print(sqrt_check(3))"
   ]
  },
  {
   "cell_type": "code",
   "execution_count": 2,
   "metadata": {},
   "outputs": [
    {
     "name": "stdout",
     "output_type": "stream",
     "text": [
      "25\n",
      "-1\n"
     ]
    }
   ],
   "source": [
    "# 다른 사람의 풀이\n",
    "# 실수를 1로 나누면 0이 나오지 않기 때문에 정수를 1로 나눈 값들만 return으로\n",
    "# 바로 출력하고 그렇지 않은 경우에는 else를 써줄 필요도 없이 -1값을 return한다.\n",
    "def sqrt_check(n):\n",
    "    sqrt = n**(1/2)\n",
    "    if sqrt % 1 == 0:\n",
    "        return int((sqrt+1)**2)\n",
    "    return -1\n",
    "\n",
    "print(sqrt_check(16))\n",
    "print(sqrt_check(3))"
   ]
  }
 ],
 "metadata": {
  "kernelspec": {
   "display_name": "Python 3",
   "language": "python",
   "name": "python3"
  },
  "language_info": {
   "codemirror_mode": {
    "name": "ipython",
    "version": 3
   },
   "file_extension": ".py",
   "mimetype": "text/x-python",
   "name": "python",
   "nbconvert_exporter": "python",
   "pygments_lexer": "ipython3",
   "version": "3.7.6"
  }
 },
 "nbformat": 4,
 "nbformat_minor": 4
}
