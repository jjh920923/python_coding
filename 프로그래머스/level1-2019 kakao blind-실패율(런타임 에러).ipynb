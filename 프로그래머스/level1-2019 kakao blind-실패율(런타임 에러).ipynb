{
 "cells": [
  {
   "cell_type": "code",
   "execution_count": 1,
   "metadata": {},
   "outputs": [],
   "source": [
    "# 나의 풀이\n",
    "# 아무리 노력을 해보았지만 런타임 에러가 계속 발생하여 다른사람의 도움을 빌렸다.\n",
    "\n",
    "def solution(N,stages):\n",
    "    result = []\n",
    "    length = len(stages)\n",
    "\n",
    "    for i in range(1, N+1):\n",
    "        count = stages.count(i)\n",
    "        result.append(count / length)\n",
    "        length -= count\n",
    "        \n",
    "    return list(map(lambda x: x+1, sorted(range(len(result)), key=lambda x: result[x], reverse=True)))"
   ]
  },
  {
   "cell_type": "code",
   "execution_count": 2,
   "metadata": {},
   "outputs": [
    {
     "name": "stdout",
     "output_type": "stream",
     "text": [
      "[3, 4, 2, 1, 5]\n",
      "[4, 1, 2, 3]\n"
     ]
    }
   ],
   "source": [
    "print(solution(5, [2,1,2,6,2,4,3,3]))\n",
    "print(solution(4, [4,4,4,4,4]))"
   ]
  },
  {
   "cell_type": "code",
   "execution_count": 3,
   "metadata": {},
   "outputs": [],
   "source": [
    "# 다른 사람의 풀이\n",
    "\n",
    "# 첫번째 문제\n",
    "# length가 먼저 0에 도달했을 때 분모가 0이 되어버리는 문제가 발생한다.\n",
    "# if로 length를 설정하여 0일때와 0이 아닐때를 구분해준다.\n",
    "\n",
    "# 두번째 문제\n",
    "# 리스트로 실패율 결과를 저장했을 때 순서대로 맞추는 것이 복잡해진다.\n",
    "# 딕셔너리를 이용하면 쉽게 구할 수 있다.\n",
    "\n",
    "def solution(N,stages):\n",
    "    result = {}\n",
    "    length = len(stages)\n",
    "\n",
    "    for i in range(1, N+1):\n",
    "        if length != 0:\n",
    "            count = stages.count(i)\n",
    "            result[i] = count / length\n",
    "            length -= count\n",
    "        else:\n",
    "            result[i] = 0\n",
    "        \n",
    "    return sorted(result, key=lambda x: result[x], reverse=True)"
   ]
  },
  {
   "cell_type": "code",
   "execution_count": 4,
   "metadata": {},
   "outputs": [
    {
     "name": "stdout",
     "output_type": "stream",
     "text": [
      "[3, 4, 2, 1, 5]\n",
      "[4, 1, 2, 3]\n"
     ]
    }
   ],
   "source": [
    "print(solution(5, [2,1,2,6,2,4,3,3]))\n",
    "print(solution(4, [4,4,4,4,4]))"
   ]
  }
 ],
 "metadata": {
  "kernelspec": {
   "display_name": "Python 3",
   "language": "python",
   "name": "python3"
  },
  "language_info": {
   "codemirror_mode": {
    "name": "ipython",
    "version": 3
   },
   "file_extension": ".py",
   "mimetype": "text/x-python",
   "name": "python",
   "nbconvert_exporter": "python",
   "pygments_lexer": "ipython3",
   "version": "3.7.6"
  }
 },
 "nbformat": 4,
 "nbformat_minor": 4
}
