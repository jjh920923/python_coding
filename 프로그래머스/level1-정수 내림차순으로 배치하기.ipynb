{
 "cells": [
  {
   "cell_type": "code",
   "execution_count": 1,
   "metadata": {},
   "outputs": [
    {
     "name": "stdout",
     "output_type": "stream",
     "text": [
      "988611\n"
     ]
    }
   ],
   "source": [
    "# 나의 풀이\n",
    "n = 118698\n",
    "print(int(''.join(sorted(list(str(n)), reverse=True))))"
   ]
  },
  {
   "cell_type": "code",
   "execution_count": 2,
   "metadata": {
    "scrolled": true
   },
   "outputs": [
    {
     "name": "stdout",
     "output_type": "stream",
     "text": [
      "988611\n"
     ]
    }
   ],
   "source": [
    "# 다른 사람의 풀이\n",
    "# sorted를 적용하면 list로 반환하여 출력되기 때문에 list로 감싸주지 않아도 된다.\n",
    "print(int(''.join(sorted(str(n), reverse=True))))"
   ]
  }
 ],
 "metadata": {
  "kernelspec": {
   "display_name": "Python 3",
   "language": "python",
   "name": "python3"
  },
  "language_info": {
   "codemirror_mode": {
    "name": "ipython",
    "version": 3
   },
   "file_extension": ".py",
   "mimetype": "text/x-python",
   "name": "python",
   "nbconvert_exporter": "python",
   "pygments_lexer": "ipython3",
   "version": "3.7.6"
  }
 },
 "nbformat": 4,
 "nbformat_minor": 4
}
