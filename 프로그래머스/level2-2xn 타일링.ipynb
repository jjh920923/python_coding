{
 "cells": [
  {
   "cell_type": "code",
   "execution_count": 1,
   "metadata": {},
   "outputs": [],
   "source": [
    "# 나의 풀이\n",
    "# 문제가 굉장히 복잡해 보이지만 수열을 풀어내면\n",
    "# 피보나치 수열인 것을 확인할 수 있다.\n",
    "\n",
    "def solution(n):\n",
    "    a = 1\n",
    "    b = 2\n",
    "    for i in range(n-2):\n",
    "        c = a + b\n",
    "        a = b\n",
    "        b = c\n",
    "    return b % 1000000007"
   ]
  },
  {
   "cell_type": "code",
   "execution_count": 2,
   "metadata": {},
   "outputs": [
    {
     "data": {
      "text/plain": [
       "8"
      ]
     },
     "execution_count": 2,
     "metadata": {},
     "output_type": "execute_result"
    }
   ],
   "source": [
    "solution(5)"
   ]
  },
  {
   "cell_type": "code",
   "execution_count": 3,
   "metadata": {},
   "outputs": [],
   "source": [
    "# 다른 사람의 풀이\n",
    "# c를 만들지 않고 계속해서 a, b에 값을 갱신시켜준다.\n",
    "# 원래 피보나치 수열처럼 초항 1, 2항 1 이렇게 코드를 작성했다.\n",
    "def tiling(n):\n",
    "    a,b=1,1\n",
    "    for i in range(n):a,b=b,a+b\n",
    "    return a%100000"
   ]
  },
  {
   "cell_type": "code",
   "execution_count": 4,
   "metadata": {},
   "outputs": [
    {
     "data": {
      "text/plain": [
       "8"
      ]
     },
     "execution_count": 4,
     "metadata": {},
     "output_type": "execute_result"
    }
   ],
   "source": [
    "solution(5)"
   ]
  }
 ],
 "metadata": {
  "kernelspec": {
   "display_name": "Python 3",
   "language": "python",
   "name": "python3"
  },
  "language_info": {
   "codemirror_mode": {
    "name": "ipython",
    "version": 3
   },
   "file_extension": ".py",
   "mimetype": "text/x-python",
   "name": "python",
   "nbconvert_exporter": "python",
   "pygments_lexer": "ipython3",
   "version": "3.7.6"
  }
 },
 "nbformat": 4,
 "nbformat_minor": 4
}
