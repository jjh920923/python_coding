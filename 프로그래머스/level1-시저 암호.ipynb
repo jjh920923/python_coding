{
 "cells": [
  {
   "cell_type": "code",
   "execution_count": 1,
   "metadata": {},
   "outputs": [],
   "source": [
    "# 나의 풀이\n",
    "def solution(s, n):\n",
    "    answer = ''\n",
    "    \n",
    "    large = list(map(chr, range(ord('A'), ord('Z')+1)))\n",
    "    small = list(map(chr, range(ord('a'), ord('z')+1)))\n",
    "\n",
    "    for i in s:\n",
    "        if i in large:\n",
    "            answer += str(large[(large.index(i) + n)%26])\n",
    "        elif i in small:\n",
    "            answer += str(small[(small.index(i) + n)%26])\n",
    "        else:\n",
    "            answer += ' '\n",
    "    return answer"
   ]
  },
  {
   "cell_type": "code",
   "execution_count": 2,
   "metadata": {},
   "outputs": [
    {
     "name": "stdout",
     "output_type": "stream",
     "text": [
      "e F d\n"
     ]
    }
   ],
   "source": [
    "print(solution('a B z', 4))"
   ]
  }
 ],
 "metadata": {
  "kernelspec": {
   "display_name": "Python 3",
   "language": "python",
   "name": "python3"
  },
  "language_info": {
   "codemirror_mode": {
    "name": "ipython",
    "version": 3
   },
   "file_extension": ".py",
   "mimetype": "text/x-python",
   "name": "python",
   "nbconvert_exporter": "python",
   "pygments_lexer": "ipython3",
   "version": "3.7.6"
  }
 },
 "nbformat": 4,
 "nbformat_minor": 4
}
