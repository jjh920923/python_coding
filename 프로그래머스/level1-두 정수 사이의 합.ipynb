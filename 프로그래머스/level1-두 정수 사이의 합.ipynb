{
 "cells": [
  {
   "cell_type": "code",
   "execution_count": 1,
   "metadata": {},
   "outputs": [],
   "source": [
    "# 나의 풀이\n",
    "def solution(a, b):    \n",
    "    return sum(list(range(min(a,b), max(a,b)+1)))"
   ]
  },
  {
   "cell_type": "code",
   "execution_count": 2,
   "metadata": {},
   "outputs": [
    {
     "name": "stdout",
     "output_type": "stream",
     "text": [
      "12\n",
      "3\n",
      "12\n"
     ]
    }
   ],
   "source": [
    "print(solution(3, 5))\n",
    "print(solution(3, 3))\n",
    "print(solution(5, 3))"
   ]
  },
  {
   "cell_type": "code",
   "execution_count": 3,
   "metadata": {},
   "outputs": [],
   "source": [
    "# 나의 풀이 2\n",
    "# list로 안묶어 주어도 계산할 수 있는걸 알면서도 한번 더 생각하고 코드를\n",
    "# 작성하지 않은 것에 대해 반성하자.\n",
    "\n",
    "def solution(a, b):    \n",
    "    return sum(range(min(a,b), max(a,b)+1))"
   ]
  },
  {
   "cell_type": "code",
   "execution_count": 4,
   "metadata": {},
   "outputs": [
    {
     "name": "stdout",
     "output_type": "stream",
     "text": [
      "12\n",
      "3\n",
      "12\n"
     ]
    }
   ],
   "source": [
    "print(solution(3, 5))\n",
    "print(solution(3, 3))\n",
    "print(solution(5, 3))"
   ]
  }
 ],
 "metadata": {
  "kernelspec": {
   "display_name": "Python 3",
   "language": "python",
   "name": "python3"
  },
  "language_info": {
   "codemirror_mode": {
    "name": "ipython",
    "version": 3
   },
   "file_extension": ".py",
   "mimetype": "text/x-python",
   "name": "python",
   "nbconvert_exporter": "python",
   "pygments_lexer": "ipython3",
   "version": "3.7.6"
  }
 },
 "nbformat": 4,
 "nbformat_minor": 4
}
