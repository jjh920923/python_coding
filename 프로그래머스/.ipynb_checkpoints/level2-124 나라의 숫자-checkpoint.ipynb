{
 "cells": [
  {
   "cell_type": "code",
   "execution_count": 1,
   "metadata": {},
   "outputs": [],
   "source": [
    "# 나의 풀이\n",
    "# 문제를 풀기전에 노트에 먼저 점화식을 알아보는 것이 현명하다.\n",
    "# 어떠한 문제들은 규칙성을 보이기 때문에 노트에 끄적이면 도움이 많이 된다.\n",
    "def solution(n):\n",
    "    T = \"124\"\n",
    "    q, r = divmod(n - 1, 3)\n",
    "    if q == 0:\n",
    "        return T[r]\n",
    "    else:\n",
    "        return solution(q) + T[r]"
   ]
  },
  {
   "cell_type": "code",
   "execution_count": 2,
   "metadata": {},
   "outputs": [
    {
     "name": "stdout",
     "output_type": "stream",
     "text": [
      "142\n"
     ]
    }
   ],
   "source": [
    "print(solution(20))"
   ]
  }
 ],
 "metadata": {
  "kernelspec": {
   "display_name": "Python 3",
   "language": "python",
   "name": "python3"
  },
  "language_info": {
   "codemirror_mode": {
    "name": "ipython",
    "version": 3
   },
   "file_extension": ".py",
   "mimetype": "text/x-python",
   "name": "python",
   "nbconvert_exporter": "python",
   "pygments_lexer": "ipython3",
   "version": "3.7.6"
  }
 },
 "nbformat": 4,
 "nbformat_minor": 4
}
