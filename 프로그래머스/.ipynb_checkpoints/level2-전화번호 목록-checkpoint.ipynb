{
 "cells": [
  {
   "cell_type": "code",
   "execution_count": 1,
   "metadata": {},
   "outputs": [],
   "source": [
    "# 나의 풀이 1\n",
    "# 먼저 str 순서대로 정렬되어있는 리스트를 int 순서대로 정럴하게 바꿔준다.\n",
    "# 그런 다음 순서대로 비교하며 접두어가 있으면 false 없으면 true를 출력한다.\n",
    "\n",
    "def solution(phone_book):\n",
    "    s = list(map(str, sorted(list(map(int , phone_book)))))\n",
    "\n",
    "    for i in range(len(phone_book)):\n",
    "        for j in range(i, len(phone_book)-1):\n",
    "            if s[i] == s[j+1][:len(s[i])+1]:\n",
    "                return False\n",
    "    return True"
   ]
  },
  {
   "cell_type": "code",
   "execution_count": 2,
   "metadata": {},
   "outputs": [
    {
     "data": {
      "text/plain": [
       "True"
      ]
     },
     "execution_count": 2,
     "metadata": {},
     "output_type": "execute_result"
    }
   ],
   "source": [
    "phone_book = ['12','123','1235','567','88']\n",
    "solution(phone_book)"
   ]
  },
  {
   "cell_type": "code",
   "execution_count": 3,
   "metadata": {},
   "outputs": [],
   "source": [
    "# 나의 풀이 2(참조)\n",
    "# 위에 처럼 두변 변환을 안해주어도 len을 기준으로 정렬하면 int 순서로 정렬이 된다.\n",
    "def solution(phone_book):\n",
    "    s = sorted(phone_book, key=len)\n",
    "\n",
    "    for i in range(len(phone_book)):\n",
    "        for j in range(i, len(phone_book)-1):\n",
    "            if s[i] == s[j+1][:len(s[i])+1]:\n",
    "                return False\n",
    "    return True"
   ]
  },
  {
   "cell_type": "code",
   "execution_count": 4,
   "metadata": {},
   "outputs": [
    {
     "data": {
      "text/plain": [
       "True"
      ]
     },
     "execution_count": 4,
     "metadata": {},
     "output_type": "execute_result"
    }
   ],
   "source": [
    "phone_book = ['12','123','1235','567','88']\n",
    "solution(phone_book)"
   ]
  },
  {
   "cell_type": "code",
   "execution_count": 5,
   "metadata": {},
   "outputs": [],
   "source": [
    "# 다른 사람의 풀이 1\n",
    "# startswith는 문자열이 함수 안의 문자열로 시작하면 True 아니면 False를 출력하는 함수이다.\n",
    "# 문제가 바뀌기 전이라 그런지 sorted에서 변환이 필요해보인다.\n",
    "def solution(phoneBook):\n",
    "    phoneBook = sorted(phoneBook)\n",
    "\n",
    "    for p1, p2 in zip(phoneBook, phoneBook[1:]):\n",
    "        if p2.startswith(p1):\n",
    "            return False\n",
    "    return True"
   ]
  },
  {
   "cell_type": "code",
   "execution_count": 6,
   "metadata": {},
   "outputs": [
    {
     "data": {
      "text/plain": [
       "False"
      ]
     },
     "execution_count": 6,
     "metadata": {},
     "output_type": "execute_result"
    }
   ],
   "source": [
    "phone_book = ['12','123','1235','567','88']\n",
    "solution(phone_book)"
   ]
  },
  {
   "cell_type": "code",
   "execution_count": 7,
   "metadata": {},
   "outputs": [],
   "source": [
    "# 다른 사람의 풀이 2\n",
    "# 정석적으로 해쉬를 이용하여 풀이한 방법이다.\n",
    "# 그냥 봐서는 해석이 잘 안된다.. 해쉬에 대한 공부를 더 해야겠다...\n",
    "# 근데 왜 False가 나오는거지...\n",
    "def solution(phone_book):\n",
    "    answer = True\n",
    "    hash_map = {}\n",
    "    for phone_number in phone_book:\n",
    "        hash_map[phone_number] = 1\n",
    "    for phone_number in phone_book:\n",
    "        temp = \"\"\n",
    "        for number in phone_number:\n",
    "            temp += number\n",
    "            if temp in hash_map and temp != phone_number:\n",
    "                answer = False\n",
    "    return answer"
   ]
  },
  {
   "cell_type": "code",
   "execution_count": 8,
   "metadata": {},
   "outputs": [
    {
     "data": {
      "text/plain": [
       "False"
      ]
     },
     "execution_count": 8,
     "metadata": {},
     "output_type": "execute_result"
    }
   ],
   "source": [
    "phone_book = ['12','123','1235','567','88']\n",
    "solution(phone_book)"
   ]
  }
 ],
 "metadata": {
  "kernelspec": {
   "display_name": "Python 3",
   "language": "python",
   "name": "python3"
  },
  "language_info": {
   "codemirror_mode": {
    "name": "ipython",
    "version": 3
   },
   "file_extension": ".py",
   "mimetype": "text/x-python",
   "name": "python",
   "nbconvert_exporter": "python",
   "pygments_lexer": "ipython3",
   "version": "3.7.6"
  }
 },
 "nbformat": 4,
 "nbformat_minor": 4
}
