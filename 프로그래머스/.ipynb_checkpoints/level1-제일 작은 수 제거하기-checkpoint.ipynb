{
 "cells": [
  {
   "cell_type": "code",
   "execution_count": 1,
   "metadata": {},
   "outputs": [
    {
     "name": "stdout",
     "output_type": "stream",
     "text": [
      "[4, 3, 2, 1]\n",
      "[-1]\n"
     ]
    }
   ],
   "source": [
    "# 나의 풀이\n",
    "# 문제에서 조건으로 주어지긴 했지만 만약 최솟값이 2개 이상 존재한다면 \n",
    "# remove로 하나밖에 제거를 못하는 문제가 생긴다\n",
    "def delete(arr):\n",
    "    if len(arr) != 1:\n",
    "        arr.remove(min(arr))\n",
    "        return(arr)\n",
    "    return [-1]\n",
    "\n",
    "print(delete([4, 3, 2, 1, 1]))\n",
    "print(delete([10]))"
   ]
  },
  {
   "cell_type": "code",
   "execution_count": 2,
   "metadata": {},
   "outputs": [
    {
     "name": "stdout",
     "output_type": "stream",
     "text": [
      "[4, 3, 2]\n",
      "[-1]\n"
     ]
    }
   ],
   "source": [
    "# 다른 사람의 풀이\n",
    "def delete(arr):\n",
    "    answer= []\n",
    "    for i in arr:\n",
    "        if i > min(arr):\n",
    "            answer.append(i)\n",
    "    if len(answer) != 0:\n",
    "        return answer\n",
    "    return [-1]\n",
    "\n",
    "print(delete([4, 3, 2, 1, 1]))\n",
    "print(delete([10]))"
   ]
  }
 ],
 "metadata": {
  "kernelspec": {
   "display_name": "Python 3",
   "language": "python",
   "name": "python3"
  },
  "language_info": {
   "codemirror_mode": {
    "name": "ipython",
    "version": 3
   },
   "file_extension": ".py",
   "mimetype": "text/x-python",
   "name": "python",
   "nbconvert_exporter": "python",
   "pygments_lexer": "ipython3",
   "version": "3.7.6"
  }
 },
 "nbformat": 4,
 "nbformat_minor": 4
}
