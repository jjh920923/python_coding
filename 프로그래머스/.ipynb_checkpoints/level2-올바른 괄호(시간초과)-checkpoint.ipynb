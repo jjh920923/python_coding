{
 "cells": [
  {
   "cell_type": "code",
   "execution_count": 1,
   "metadata": {},
   "outputs": [],
   "source": [
    "# 나의 풀이 1\n",
    "# 코드가 간결하고 복잡성이 낮아 보였으나 실제로 테스트한\n",
    "# 결과 시간초과로 통과하지 못했다.\n",
    "def solution(s):\n",
    "    n = int(len(s)/2)\n",
    "\n",
    "    for i in range(n):\n",
    "        if len(s) != 0:\n",
    "            s = s.replace('()', '')\n",
    "        else:\n",
    "            return True\n",
    "\n",
    "    return False"
   ]
  },
  {
   "cell_type": "code",
   "execution_count": 2,
   "metadata": {},
   "outputs": [
    {
     "name": "stdout",
     "output_type": "stream",
     "text": [
      "True\n",
      "False\n"
     ]
    }
   ],
   "source": [
    "print(solution('(())()'))\n",
    "print(solution('(()))'))"
   ]
  },
  {
   "cell_type": "code",
   "execution_count": 3,
   "metadata": {},
   "outputs": [],
   "source": [
    "# 나의 풀이 2\n",
    "# Queue 빈리스트를 생성하는 식으로 코드를 사용했다.\n",
    "# 하지만 역시 시간초과로 통과하지 못했다.\n",
    "def solution(s):\n",
    "    Queue = []\n",
    "    \n",
    "    for i in s:\n",
    "        if i == '(':\n",
    "            Queue.append(i)\n",
    "        else:\n",
    "            if len(Queue) == 0:\n",
    "                return False\n",
    "            Queue = Queue[0:-1] \n",
    "\n",
    "    return len(Queue) == 0 or False"
   ]
  },
  {
   "cell_type": "code",
   "execution_count": 4,
   "metadata": {},
   "outputs": [
    {
     "name": "stdout",
     "output_type": "stream",
     "text": [
      "True\n",
      "False\n"
     ]
    }
   ],
   "source": [
    "print(solution('(())()'))\n",
    "print(solution('(()))'))"
   ]
  },
  {
   "cell_type": "code",
   "execution_count": 5,
   "metadata": {},
   "outputs": [],
   "source": [
    "# 나의 풀이 3\n",
    "# 해결법은 간단했다.\n",
    "# 리스트를 빼줄 때 pop을 사용하면 시간복잡도가 훨씬 단축된다.\n",
    "# 이걸 알면서도 나는 사용하지 못했다...\n",
    "\n",
    "def solution(s):\n",
    "    Queue = []\n",
    "    \n",
    "    for i in s:\n",
    "        if i == '(':\n",
    "            Queue.append(i)\n",
    "        else:\n",
    "            if len(Queue) == 0:\n",
    "                return False\n",
    "            Queue.pop()\n",
    "\n",
    "    return len(Queue) == 0 or False"
   ]
  },
  {
   "cell_type": "code",
   "execution_count": 6,
   "metadata": {},
   "outputs": [
    {
     "name": "stdout",
     "output_type": "stream",
     "text": [
      "True\n",
      "False\n"
     ]
    }
   ],
   "source": [
    "print(solution('(())()'))\n",
    "print(solution('(()))'))"
   ]
  }
 ],
 "metadata": {
  "kernelspec": {
   "display_name": "Python 3",
   "language": "python",
   "name": "python3"
  },
  "language_info": {
   "codemirror_mode": {
    "name": "ipython",
    "version": 3
   },
   "file_extension": ".py",
   "mimetype": "text/x-python",
   "name": "python",
   "nbconvert_exporter": "python",
   "pygments_lexer": "ipython3",
   "version": "3.7.6"
  }
 },
 "nbformat": 4,
 "nbformat_minor": 4
}
