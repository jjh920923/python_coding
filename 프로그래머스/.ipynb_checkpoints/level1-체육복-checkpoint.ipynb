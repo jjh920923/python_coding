{
 "cells": [
  {
   "cell_type": "code",
   "execution_count": 1,
   "metadata": {},
   "outputs": [],
   "source": [
    "# 나의 풀이\n",
    "# 문제를 제대로 안읽어서 고생좀했다...\n",
    "# 앞으로 문제를 제대로 읽는 습관을 가져야겠다.\n",
    "\n",
    "def solution(n, lost, reserve):\n",
    "    L = list(set(lost) - set(reserve))\n",
    "    R = list(set(reserve) - set(lost))\n",
    "\n",
    "    for i in range(len(L)):\n",
    "        if L[i] - 1 in R:\n",
    "            R.remove(L[i]-1)\n",
    "        elif L[i] + 1 in R:\n",
    "            R.remove(L[i]+1)\n",
    "        else:\n",
    "            n -= 1\n",
    "    return n"
   ]
  },
  {
   "cell_type": "code",
   "execution_count": 2,
   "metadata": {},
   "outputs": [
    {
     "name": "stdout",
     "output_type": "stream",
     "text": [
      "5\n",
      "2\n",
      "4\n"
     ]
    }
   ],
   "source": [
    "print(solution(5, [2, 4], [1, 3, 5]))\n",
    "print(solution(3, [3], [1]))\n",
    "print(solution(5, [2, 3], [3, 4]))"
   ]
  },
  {
   "cell_type": "code",
   "execution_count": 3,
   "metadata": {},
   "outputs": [],
   "source": [
    "# 다른 사람의 풀이\n",
    "# 이 사람은 lost에서 값을 제거했다. 나와 반대로 생각했을 뿐 같은 방법이다.\n",
    "\n",
    "def solution(n, lost, reserve):\n",
    "    _reserve = [r for r in reserve if r not in lost]\n",
    "    _lost = [l for l in lost if l not in reserve]\n",
    "    for r in _reserve:\n",
    "        f = r - 1\n",
    "        b = r + 1\n",
    "        if f in _lost:\n",
    "            _lost.remove(f)\n",
    "        elif b in _lost:\n",
    "            _lost.remove(b)\n",
    "    return n - len(_lost)"
   ]
  },
  {
   "cell_type": "code",
   "execution_count": 4,
   "metadata": {},
   "outputs": [
    {
     "name": "stdout",
     "output_type": "stream",
     "text": [
      "5\n",
      "2\n",
      "4\n"
     ]
    }
   ],
   "source": [
    "print(solution(5, [2, 4], [1, 3, 5]))\n",
    "print(solution(3, [3], [1]))\n",
    "print(solution(5, [2, 3], [3, 4]))"
   ]
  }
 ],
 "metadata": {
  "kernelspec": {
   "display_name": "Python 3",
   "language": "python",
   "name": "python3"
  },
  "language_info": {
   "codemirror_mode": {
    "name": "ipython",
    "version": 3
   },
   "file_extension": ".py",
   "mimetype": "text/x-python",
   "name": "python",
   "nbconvert_exporter": "python",
   "pygments_lexer": "ipython3",
   "version": "3.7.6"
  }
 },
 "nbformat": 4,
 "nbformat_minor": 4
}
