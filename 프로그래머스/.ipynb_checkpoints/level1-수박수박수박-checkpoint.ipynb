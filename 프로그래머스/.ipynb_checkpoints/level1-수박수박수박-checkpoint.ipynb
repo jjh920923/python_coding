{
 "cells": [
  {
   "cell_type": "code",
   "execution_count": 1,
   "metadata": {},
   "outputs": [],
   "source": [
    "# 나의 풀이\n",
    "def water_malon(n):\n",
    "    return ('수박'*int((n+1)/2))[:n]"
   ]
  },
  {
   "cell_type": "code",
   "execution_count": 2,
   "metadata": {},
   "outputs": [
    {
     "name": "stdout",
     "output_type": "stream",
     "text": [
      "수박수박수\n",
      "수박수박수박수박\n"
     ]
    }
   ],
   "source": [
    "print(water_malon(5))\n",
    "print(water_malon(8))"
   ]
  },
  {
   "cell_type": "code",
   "execution_count": 3,
   "metadata": {},
   "outputs": [],
   "source": [
    "# 다른 사람의 풀이\n",
    "# 더 간결하지만 n이 커지면 시간복잡도가 증가하기 때문에 내가 푼 풀이가\n",
    "# 더 효율적이라고 생각한다.\n",
    "def water_melon(n):\n",
    "    s = \"수박\" * n\n",
    "    return s[:n]"
   ]
  },
  {
   "cell_type": "code",
   "execution_count": 4,
   "metadata": {},
   "outputs": [
    {
     "name": "stdout",
     "output_type": "stream",
     "text": [
      "수박수박수\n",
      "수박수박수박수박\n"
     ]
    }
   ],
   "source": [
    "print(water_malon(5))\n",
    "print(water_malon(8))"
   ]
  }
 ],
 "metadata": {
  "kernelspec": {
   "display_name": "Python 3",
   "language": "python",
   "name": "python3"
  },
  "language_info": {
   "codemirror_mode": {
    "name": "ipython",
    "version": 3
   },
   "file_extension": ".py",
   "mimetype": "text/x-python",
   "name": "python",
   "nbconvert_exporter": "python",
   "pygments_lexer": "ipython3",
   "version": "3.7.6"
  }
 },
 "nbformat": 4,
 "nbformat_minor": 4
}
