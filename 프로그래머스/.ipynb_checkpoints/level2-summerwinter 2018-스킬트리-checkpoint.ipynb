{
 "cells": [
  {
   "cell_type": "code",
   "execution_count": 1,
   "metadata": {},
   "outputs": [],
   "source": [
    "# 나의 풀이\n",
    "# 침착하게 잘 풀었으나 save 지정에서 코드가 더러워졌다...\n",
    "# 좀 더 잘 생각해보면 좋았을 텐데\n",
    "def solution(skill, skill_trees):\n",
    "    save = ''\n",
    "    answer = 0\n",
    "\n",
    "    for skill_name in skill_trees:\n",
    "        for n in skill_name:\n",
    "            if n in skill:\n",
    "                save += n\n",
    "        if skill[:len(save)] == save:\n",
    "            answer += 1\n",
    "            save = ''\n",
    "        else:\n",
    "            save = ''\n",
    "    return answer"
   ]
  },
  {
   "cell_type": "code",
   "execution_count": 2,
   "metadata": {},
   "outputs": [
    {
     "data": {
      "text/plain": [
       "2"
      ]
     },
     "execution_count": 2,
     "metadata": {},
     "output_type": "execute_result"
    }
   ],
   "source": [
    "skill = 'CBD'\n",
    "skill_trees = [\"BACDE\", \"CBADF\", \"AECB\", \"BDA\"]\n",
    "solution(skill, skill_trees)"
   ]
  },
  {
   "cell_type": "code",
   "execution_count": 3,
   "metadata": {},
   "outputs": [],
   "source": [
    "# 다른 사람의 풀이 1\n",
    "# save를 for문 첫번째에 넣으면 계속 초기화가 되기 때문에\n",
    "# 위의 나처럼 바보같은 코드는 짜지 않아도 된다.\n",
    "def solution(skill, skill_trees):\n",
    "    answer = 0\n",
    "\n",
    "    for skill_name in skill_trees:\n",
    "        save = ''\n",
    "        for n in skill_name:\n",
    "            if n in skill:\n",
    "                save += n\n",
    "        if skill[:len(save)] == save:\n",
    "            answer += 1\n",
    "    return answer"
   ]
  },
  {
   "cell_type": "code",
   "execution_count": 4,
   "metadata": {},
   "outputs": [
    {
     "data": {
      "text/plain": [
       "2"
      ]
     },
     "execution_count": 4,
     "metadata": {},
     "output_type": "execute_result"
    }
   ],
   "source": [
    "skill = 'CBD'\n",
    "skill_trees = [\"BACDE\", \"CBADF\", \"AECB\", \"BDA\"]\n",
    "solution(skill, skill_trees)"
   ]
  },
  {
   "cell_type": "code",
   "execution_count": 5,
   "metadata": {},
   "outputs": [],
   "source": [
    "# 다른 사람의 풀이 2\n",
    "# 골라내는 방식과는 반대로 없는 문자들을 빼내는 방식이다.\n",
    "# pop을 사용했기 때문이 이런 방식도 알아두면 좋을 것이다.\n",
    "def solution(skill, skill_trees):\n",
    "    answer = 0\n",
    "\n",
    "    for skills in skill_trees:\n",
    "        skill_list = list(skill)\n",
    "\n",
    "        for s in skills:\n",
    "            if s in skill:\n",
    "                if s != skill_list.pop(0):\n",
    "                    break\n",
    "        else:\n",
    "            answer += 1\n",
    "\n",
    "    return answer"
   ]
  },
  {
   "cell_type": "code",
   "execution_count": 6,
   "metadata": {},
   "outputs": [
    {
     "data": {
      "text/plain": [
       "2"
      ]
     },
     "execution_count": 6,
     "metadata": {},
     "output_type": "execute_result"
    }
   ],
   "source": [
    "skill = 'CBD'\n",
    "skill_trees = [\"BACDE\", \"CBADF\", \"AECB\", \"BDA\"]\n",
    "solution(skill, skill_trees)"
   ]
  }
 ],
 "metadata": {
  "kernelspec": {
   "display_name": "Python 3",
   "language": "python",
   "name": "python3"
  },
  "language_info": {
   "codemirror_mode": {
    "name": "ipython",
    "version": 3
   },
   "file_extension": ".py",
   "mimetype": "text/x-python",
   "name": "python",
   "nbconvert_exporter": "python",
   "pygments_lexer": "ipython3",
   "version": "3.7.6"
  }
 },
 "nbformat": 4,
 "nbformat_minor": 4
}
