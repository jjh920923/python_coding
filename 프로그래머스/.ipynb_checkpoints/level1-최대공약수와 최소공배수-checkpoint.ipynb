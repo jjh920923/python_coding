{
 "cells": [
  {
   "cell_type": "code",
   "execution_count": 1,
   "metadata": {},
   "outputs": [
    {
     "name": "stdout",
     "output_type": "stream",
     "text": [
      "[3, 12.0]\n",
      "[3, 60.0]\n"
     ]
    }
   ],
   "source": [
    "# 나의 코드\n",
    "def lcm_gcd(n, m):\n",
    "    big_num = max(n, m)\n",
    "    small_num = min(n, m)\n",
    "    lcm = max([i+1 for i in range(small_num) if small_num%(i+1) == 0 and big_num%(i+1) == 0])\n",
    "    gcd = (big_num*small_num)/lcm\n",
    "    return [lcm, gcd]\n",
    "\n",
    "print(lcm_gcd(3, 12))\n",
    "print(lcm_gcd(12, 15))"
   ]
  }
 ],
 "metadata": {
  "kernelspec": {
   "display_name": "Python 3",
   "language": "python",
   "name": "python3"
  },
  "language_info": {
   "codemirror_mode": {
    "name": "ipython",
    "version": 3
   },
   "file_extension": ".py",
   "mimetype": "text/x-python",
   "name": "python",
   "nbconvert_exporter": "python",
   "pygments_lexer": "ipython3",
   "version": "3.7.6"
  }
 },
 "nbformat": 4,
 "nbformat_minor": 4
}
