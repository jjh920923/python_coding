{
 "cells": [
  {
   "cell_type": "code",
   "execution_count": 1,
   "metadata": {},
   "outputs": [],
   "source": [
    "# 나의 풀이\n",
    "# 정답은 맞았으나 효율성 부분에서 떨어진다.\n",
    "\n",
    "def solution(n):\n",
    "    answer = 0\n",
    "    for i in range(2, n+1):\n",
    "        prime = 0\n",
    "        for j in range(2, int(i/2)+1):\n",
    "            if i % j == 0:\n",
    "                prime = prime + 1\n",
    "                break\n",
    "        if prime == 0:\n",
    "            answer = answer + 1\n",
    "    return answer"
   ]
  },
  {
   "cell_type": "code",
   "execution_count": 2,
   "metadata": {},
   "outputs": [
    {
     "data": {
      "text/plain": [
       "8"
      ]
     },
     "execution_count": 2,
     "metadata": {},
     "output_type": "execute_result"
    }
   ],
   "source": [
    "solution(21)"
   ]
  },
  {
   "cell_type": "code",
   "execution_count": 3,
   "metadata": {},
   "outputs": [],
   "source": [
    "# 에라토스테네스의 체를 이용하여 소수가 아닌 수들을 제거하는 방법이다.\n",
    "# 2가 있으면 2, 4, 6, 8...을 제거한다.\n",
    "# 3이 있으면 3, 6, 8, 12...을 제거한다.\n",
    "# 4가 있으면 4, 8, 12, 16...을 제거한다.\n",
    "# 배열을 set로 만들어주고 차집합을 이용하여 제거해준다.\n",
    "# num = num - 와 num -= 사이간에도 시간복잡도의 큰 차이가 있는듯하다...\n",
    "# 알고리즘을 공부할 때에는 +=, -=로 시간복잡도를 줄여야겠다.\n",
    "\n",
    "def solution(n):\n",
    "    num = set(range(2, n+1))\n",
    "    for i in range(2, n+1):\n",
    "        if i in num:\n",
    "           #num -= set(range(2*i, n+1, i))      # 통과\n",
    "            num = num - set(range(2*i, n+1, i)) # 시간초과\n",
    "    return len(num)"
   ]
  },
  {
   "cell_type": "code",
   "execution_count": 4,
   "metadata": {},
   "outputs": [
    {
     "data": {
      "text/plain": [
       "8"
      ]
     },
     "execution_count": 4,
     "metadata": {},
     "output_type": "execute_result"
    }
   ],
   "source": [
    "solution(21)"
   ]
  }
 ],
 "metadata": {
  "kernelspec": {
   "display_name": "Python 3",
   "language": "python",
   "name": "python3"
  },
  "language_info": {
   "codemirror_mode": {
    "name": "ipython",
    "version": 3
   },
   "file_extension": ".py",
   "mimetype": "text/x-python",
   "name": "python",
   "nbconvert_exporter": "python",
   "pygments_lexer": "ipython3",
   "version": "3.7.6"
  }
 },
 "nbformat": 4,
 "nbformat_minor": 4
}
