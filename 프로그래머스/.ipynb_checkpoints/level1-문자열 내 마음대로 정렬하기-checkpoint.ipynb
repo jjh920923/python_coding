{
 "cells": [
  {
   "cell_type": "code",
   "execution_count": 1,
   "metadata": {},
   "outputs": [],
   "source": [
    "# 나의 풀이\n",
    "# 처음에 어떻게 풀까 고민하다가 sorted 함수에 대해 잘 모르는 것 같아\n",
    "# 구글링을 한 뒤 sorted에 대해 공부하고 문제를 풀었다.\n",
    "# sorted 안의 key를 통해 lambda로 정렬할 기준을 정할 수 있다.\n",
    "def solution(strings, n):\n",
    "   return sorted(strings, key=lambda x: (x[n], x))"
   ]
  },
  {
   "cell_type": "code",
   "execution_count": 2,
   "metadata": {},
   "outputs": [
    {
     "name": "stdout",
     "output_type": "stream",
     "text": [
      "['abcd', 'abce', 'cdx']\n",
      "['car', 'bed', 'sun']\n"
     ]
    }
   ],
   "source": [
    "print(solution(['abce', 'abcd', 'cdx'], 2))\n",
    "print(solution(['sun','bed','car'], 1))"
   ]
  }
 ],
 "metadata": {
  "kernelspec": {
   "display_name": "Python 3",
   "language": "python",
   "name": "python3"
  },
  "language_info": {
   "codemirror_mode": {
    "name": "ipython",
    "version": 3
   },
   "file_extension": ".py",
   "mimetype": "text/x-python",
   "name": "python",
   "nbconvert_exporter": "python",
   "pygments_lexer": "ipython3",
   "version": "3.7.6"
  }
 },
 "nbformat": 4,
 "nbformat_minor": 4
}
