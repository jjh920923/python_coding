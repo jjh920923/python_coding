{
 "cells": [
  {
   "cell_type": "code",
   "execution_count": 1,
   "metadata": {},
   "outputs": [],
   "source": [
    "# 나의 풀이\n",
    "# 다른 사람들의 풀이를 봐도 내 풀이가 가장 간결한 것 같다.\n",
    "# 나날이 발전해가는 내 모습이 뿌듯하다...\n",
    "# 앞으로 데이터 분석 쪽 연습만 더 하면 될거같다...\n",
    "def solution(numbers, hand):\n",
    "    result = ''\n",
    "    pos = {1:[0,0], 2:[0,1], 3:[0,2], 4:[1,0], 5:[1,1], 6:[1,2], \n",
    "           7:[2,0], 8:[2,1], 9:[2,2], '*':[3,0], 0:[3,1], '#':[3,2]}\n",
    "\n",
    "    L_pos = '*'\n",
    "    R_pos = '#'\n",
    "    for i in numbers:\n",
    "        if i in (1, 4, 7):\n",
    "            result += 'L'\n",
    "            L_pos = i\n",
    "        elif i in (3, 6, 9):\n",
    "            result += 'R'\n",
    "            R_pos = i\n",
    "        else:\n",
    "            L_dis = abs(pos[i][0] - pos[L_pos][0]) + abs(pos[i][1] - pos[L_pos][1])\n",
    "            R_dis = abs(pos[i][0] - pos[R_pos][0]) + abs(pos[i][1] - pos[R_pos][1])\n",
    "            if L_dis < R_dis:\n",
    "                result += 'L'\n",
    "                L_pos = i\n",
    "            elif L_dis > R_dis:\n",
    "                result += 'R'\n",
    "                R_pos = i\n",
    "            else:\n",
    "                if hand == 'right':\n",
    "                    result += 'R'\n",
    "                    R_pos = i\n",
    "                else:\n",
    "                    result += 'L'\n",
    "                    L_pos = i\n",
    "    return result"
   ]
  },
  {
   "cell_type": "code",
   "execution_count": 2,
   "metadata": {},
   "outputs": [
    {
     "data": {
      "text/plain": [
       "'LRLLLRLLRRL'"
      ]
     },
     "execution_count": 2,
     "metadata": {},
     "output_type": "execute_result"
    }
   ],
   "source": [
    "numbers = [1, 3, 4, 5, 8, 2, 1, 4, 5, 9, 5]\n",
    "hand = 'right'\n",
    "solution(numbers, hand)"
   ]
  },
  {
   "cell_type": "code",
   "execution_count": 3,
   "metadata": {},
   "outputs": [
    {
     "data": {
      "text/plain": [
       "'LRLLRRLLLRR'"
      ]
     },
     "execution_count": 3,
     "metadata": {},
     "output_type": "execute_result"
    }
   ],
   "source": [
    "numbers = [7, 0, 8, 2, 8, 3, 1, 5, 7, 6, 2]\n",
    "hand = 'left'\n",
    "solution(numbers, hand)"
   ]
  },
  {
   "cell_type": "code",
   "execution_count": 4,
   "metadata": {},
   "outputs": [
    {
     "data": {
      "text/plain": [
       "'LLRLLRLLRL'"
      ]
     },
     "execution_count": 4,
     "metadata": {},
     "output_type": "execute_result"
    }
   ],
   "source": [
    "numbers = [1, 2, 3, 4, 5, 6, 7, 8, 9, 0]\n",
    "hand = 'right'\n",
    "solution(numbers, hand)"
   ]
  }
 ],
 "metadata": {
  "kernelspec": {
   "display_name": "Python 3",
   "language": "python",
   "name": "python3"
  },
  "language_info": {
   "codemirror_mode": {
    "name": "ipython",
    "version": 3
   },
   "file_extension": ".py",
   "mimetype": "text/x-python",
   "name": "python",
   "nbconvert_exporter": "python",
   "pygments_lexer": "ipython3",
   "version": "3.7.6"
  }
 },
 "nbformat": 4,
 "nbformat_minor": 4
}
